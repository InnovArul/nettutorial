{
 "cells": [
  {
   "cell_type": "code",
   "execution_count": 17,
   "metadata": {},
   "outputs": [
    {
     "name": "stdout",
     "output_type": "stream",
     "text": [
      "0.2.0_4\n"
     ]
    }
   ],
   "source": [
    "import torch as th\n",
    "from torch.autograd import Variable\n",
    "\n",
    "import numpy as np\n",
    "import matplotlib.pyplot as plt\n",
    "\n",
    "print( th.__version__ )"
   ]
  },
  {
   "cell_type": "code",
   "execution_count": 16,
   "metadata": {},
   "outputs": [
    {
     "name": "stdout",
     "output_type": "stream",
     "text": [
      "0 266230.457784815\n",
      "1 15956.895521402268\n",
      "2 3905.722384996317\n",
      "3 1431.7602827240112\n",
      "4 643.0559108923042\n",
      "5 359.9729471657151\n",
      "6 251.0651680024454\n",
      "7 205.39495511207852\n",
      "8 183.34546355389088\n",
      "9 170.36776456614658\n"
     ]
    },
    {
     "data": {
      "image/png": "[encoded data removed]",
      "text/plain": [
       "<matplotlib.figure.Figure at 0x7f211a729a20>"
      ]
     },
     "metadata": {},
     "output_type": "display_data"
    }
   ],
   "source": [
    "\n",
    "\n",
    "dtype = th.FloatTensor\n",
    "N, D_in, H, D_out = 64, 1000, 100, 10\n",
    "\n",
    "#\n",
    "#  x_(64x1000) ---->  a_64x100 ---> y_64x10  \n",
    "#              W^1_1000x100     w^2_100x10\n",
    "#\n",
    "\n",
    "# randonm input\n",
    "x = th.randn(N, D_in).type( dtype ) \n",
    "y = th.randn(N, D_out).type( dtype )\n",
    "\n",
    "# random initialization\n",
    "w1 = th.rand( D_in, H ).type( dtype )\n",
    "w2 = th.rand( H, D_out).type( dtype )\n",
    "\n",
    "learning_rate = 1e-6\n",
    "niters = 10\n",
    "error = np.zeros(niters)\n",
    "for t in range( niters ):\n",
    "    \n",
    "    #Forward\n",
    "    z1 = x\n",
    "    z2 = z1.mm(w1)\n",
    "    a2 = z2.clamp(min=0)\n",
    "    z3 = a2.mm(w2)\n",
    "    yhat = z3\n",
    "    \n",
    "    loss = (yhat - y).pow(2).mean()\n",
    "    print(t, loss)\n",
    "    error[t] = loss\n",
    "\n",
    "    # Backprop to compute gradients of w1 and w2 with respect to loss\n",
    "    grad_y_pred = 2.0 * (yhat - y)\n",
    "    grad_w2 = a2.t().mm(grad_y_pred)\n",
    "    grad_h_relu = grad_y_pred.mm(w2.t())\n",
    "    grad_h = grad_h_relu.clone()\n",
    "    grad_h[z2 < 0] = 0\n",
    "    grad_w1 = z1.t().mm(grad_h)\n",
    "\n",
    "    # Update weights using gradient descent\n",
    "    \n",
    "    w1 -= learning_rate * grad_w1\n",
    "    w2 -= learning_rate * grad_w2\n",
    "    \n",
    "    \n",
    "\n",
    "# plot error\n",
    "plt.plot(error,'-', label='error')\n",
    "plt.xlabel('epoch')\n",
    "plt.ylabel('loss')\n",
    "plt.legend()\n",
    "plt.show()\n",
    "\n",
    "\n"
   ]
  },
  {
   "cell_type": "code",
   "execution_count": 33,
   "metadata": {},
   "outputs": [
    {
     "name": "stdout",
     "output_type": "stream",
     "text": [
      "0 686.0169677734375\n",
      "1 631.2456665039062\n",
      "2 584.3085327148438\n",
      "3 544.17822265625\n",
      "4 508.70062255859375\n",
      "5 477.228759765625\n",
      "6 448.806640625\n",
      "7 422.8643493652344\n",
      "8 399.0734558105469\n",
      "9 377.01947021484375\n"
     ]
    },
    {
     "data": {
      "image/png": "[encoded data removed]",
      "text/plain": [
       "<matplotlib.figure.Figure at 0x7f211a715eb8>"
      ]
     },
     "metadata": {},
     "output_type": "display_data"
    }
   ],
   "source": [
    "\n",
    "\n",
    "N, D_in, H, D_out = 64, 1000, 100, 10\n",
    "\n",
    "x = Variable(th.randn(N, D_in))\n",
    "y = Variable(th.randn(N, D_out), requires_grad=False)\n",
    "\n",
    "model = th.nn.Sequential(\n",
    "    th.nn.Linear(D_in, H),\n",
    "    th.nn.ReLU(),\n",
    "    th.nn.Linear(H, D_out),\n",
    ")\n",
    "\n",
    "loss_fn = th.nn.MSELoss(size_average=False)\n",
    "\n",
    "learning_rate = 1e-4\n",
    "niter = 10\n",
    "erros = np.zeros(niter)\n",
    "for t in range(niter):\n",
    "    \n",
    "    \n",
    "    yhat = model(x)\n",
    "    loss = loss_fn(yhat,y)\n",
    "    print(t,loss.data[0])\n",
    "    erros[t] = loss.data[0]\n",
    "    \n",
    "    model.zero_grad()\n",
    "    loss.backward()\n",
    "    \n",
    "    for param in model.parameters():\n",
    "        param.data -= learning_rate*param.grad.data\n",
    "    \n",
    "    \n",
    "# plot error\n",
    "plt.plot(error,'-', label='error')\n",
    "plt.xlabel('epoch')\n",
    "plt.ylabel('loss')\n",
    "plt.legend()\n",
    "plt.show()\n"
   ]
  },
  {
   "cell_type": "code",
   "execution_count": 36,
   "metadata": {},
   "outputs": [
    {
     "name": "stdout",
     "output_type": "stream",
     "text": [
      "0 719.0383911132812\n",
      "1 665.91845703125\n",
      "2 619.938232421875\n",
      "3 579.8974609375\n",
      "4 544.4142456054688\n",
      "5 513.1660766601562\n",
      "6 484.68170166015625\n",
      "7 458.2241516113281\n",
      "8 433.6163330078125\n",
      "9 410.652099609375\n"
     ]
    },
    {
     "data": {
      "image/png": "[encoded data removed]",
      "text/plain": [
       "<matplotlib.figure.Figure at 0x7f21191346d8>"
      ]
     },
     "metadata": {},
     "output_type": "display_data"
    }
   ],
   "source": [
    "class MyLayerNet(th.nn.Module):\n",
    "    def __init__(self, D_in, H, D_out):\n",
    "        \"\"\"\n",
    "        In the constructor we instantiate two nn.Linear modules and assign them as\n",
    "        member variables.\n",
    "        \"\"\"\n",
    "        super(MyLayerNet, self).__init__()\n",
    "        self.linear1 = th.nn.Linear(D_in, H)\n",
    "        self.linear2 = th.nn.Linear(H, D_out)\n",
    "\n",
    "    def forward(self, x):\n",
    "        \"\"\"\n",
    "        In the forward function we accept a Variable of input data and we must return\n",
    "        a Variable of output data. We can use Modules defined in the constructor as\n",
    "        well as arbitrary operators on Variables.\n",
    "        \"\"\"\n",
    "        h_relu = self.linear1(x).clamp(min=0)\n",
    "        y_pred = self.linear2(h_relu)\n",
    "        return y_pred\n",
    "\n",
    "\n",
    "N, D_in, H, D_out = 64, 1000, 100, 10\n",
    "\n",
    "x = Variable( th.randn(N,D_in) )\n",
    "y = Variable( th.randn(N,D_out), requires_grad=False  )\n",
    "\n",
    "net = MyLayerNet(D_in, H, D_out)\n",
    "criterior = th.nn.MSELoss(size_average=False)\n",
    "opt = th.optim.SGD( net.parameters(), lr=1e-4 )\n",
    "\n",
    "niter = 10\n",
    "error = np.zeros(niter)\n",
    "for t in range(niter):\n",
    "    \n",
    "    yhat = net(x)\n",
    "    loss = criterior(yhat,y)\n",
    "    print(t, loss.data[0])\n",
    "    error[t] = loss.data[0]\n",
    "    \n",
    "    opt.zero_grad()\n",
    "    loss.backward()\n",
    "    opt.step()\n",
    "    \n",
    "# plot error\n",
    "plt.plot(error,'-', label='error')\n",
    "plt.xlabel('epoch')\n",
    "plt.ylabel('loss')\n",
    "plt.legend()\n",
    "plt.show()\n",
    "\n",
    "\n"
   ]
  },
  {
   "cell_type": "code",
   "execution_count": null,
   "metadata": {},
   "outputs": [],
   "source": []
  },
  {
   "cell_type": "code",
   "execution_count": null,
   "metadata": {
    "collapsed": true
   },
   "outputs": [],
   "source": []
  }
 ],
 "metadata": {
  "kernelspec": {
   "display_name": "Python 3",
   "language": "python",
   "name": "python3"
  },
  "language_info": {
   "codemirror_mode": {
    "name": "ipython",
    "version": 3
   },
   "file_extension": ".py",
   "mimetype": "text/x-python",
   "name": "python",
   "nbconvert_exporter": "python",
   "pygments_lexer": "ipython3",
   "version": "3.6.1"
  }
 },
 "nbformat": 4,
 "nbformat_minor": 2
}
