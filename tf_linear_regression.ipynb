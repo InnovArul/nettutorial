{
 "cells": [
  {
   "cell_type": "code",
   "execution_count": 1,
   "metadata": {
    "collapsed": false
   },
   "outputs": [
    {
     "name": "stdout",
     "output_type": "stream",
     "text": [
      "0.12.1\n"
     ]
    }
   ],
   "source": [
    "import tensorflow as tf\n",
    "import numpy as np\n",
    "import matplotlib.pyplot as plt\n",
    "import pandas as pd\n",
    "import xlrd\n",
    "\n",
    "\n",
    "print(tf.__version__)"
   ]
  },
  {
   "cell_type": "code",
   "execution_count": 2,
   "metadata": {
    "collapsed": false
   },
   "outputs": [],
   "source": [
    "path_data = './data/fire_theft.xls'\n",
    "\n",
    "book = xlrd.open_workbook(path_data, encoding_override=\"utf-8\")\n",
    "sheet = book.sheet_by_index(0)\n",
    "data = np.asarray([sheet.row_values(i) for i in range(1, sheet.nrows)])\n",
    "n_samples = sheet.nrows - 1\n",
    "\n",
    "#print(n_samples)\n",
    "#print(data.T[1])\n"
   ]
  },
  {
   "cell_type": "code",
   "execution_count": 22,
   "metadata": {
    "collapsed": false
   },
   "outputs": [
    {
     "name": "stdout",
     "output_type": "stream",
     "text": [
      "Epoch 0: 3.3239139020442963\n",
      "Epoch 10: 2.720461067699251\n",
      "Epoch 20: 2.165511638280891\n",
      "Epoch 30: 1.9190489380132585\n",
      "Epoch 40: 1.823004533847173\n",
      "Epoch 50: 1.7541611450946046\n",
      "Epoch 60: 1.7177828319725537\n",
      "Epoch 70: 1.700041592432951\n",
      "Epoch 80: 1.689413756708659\n",
      "Epoch 90: 1.6837719044089317\n",
      "Epoch 100: 1.683084371313455\n",
      "Epoch 110: 1.6823872672287485\n",
      "Epoch 120: 1.681690403050966\n",
      "Epoch 130: 1.6809937174529554\n",
      "Epoch 140: 1.6802971553749255\n",
      "Epoch 150: 1.679600741137706\n",
      "Epoch 160: 1.678904505285118\n",
      "Epoch 170: 1.678208482469472\n",
      "Epoch 180: 1.6775124702301019\n",
      "Epoch 190: 1.6768166353872835\n",
      "Result\n",
      "1.97668 0.445538\n"
     ]
    },
    {
     "data": {
      "image/png": "[encoded data removed]",
      "text/plain": [
       "<matplotlib.figure.Figure at 0x7f03092b0630>"
      ]
     },
     "metadata": {},
     "output_type": "display_data"
    }
   ],
   "source": [
    "\n",
    "# Y_= w*X + b\n",
    "\n",
    "X = tf.placeholder( dtype=tf.float32, name='X'  )\n",
    "Y = tf.placeholder( dtype=tf.float32, name='Y'  )\n",
    "\n",
    "w = tf.Variable( 0.0, name='w' )\n",
    "b = tf.Variable( 0.0, name='b' )\n",
    "\n",
    "Yhat = X*w + b\n",
    "\n",
    "\n",
    "#E = tf.square( Y - Yhat, name='loss' )\n",
    "\n",
    "# Pseudo-Huber loss function\n",
    "# https://en.wikipedia.org/wiki/Huber_loss\n",
    "# L(a) = delta^2 ( (1+ (a/delta)^2 )^0.5 - 1 )\n",
    "delta = 0.1\n",
    "E = (delta*delta) * ( tf.sqrt(1.0 + tf.square(((Y-Yhat)/delta)) ) - 1.0 )\n",
    "\n",
    "    \n",
    "opt = tf.train.GradientDescentOptimizer( learning_rate=0.001 ).minimize( E )\n",
    "\n",
    "init = tf.global_variables_initializer()\n",
    "\n",
    "with tf.Session() as sess:\n",
    "    \n",
    "    sess.run( init )\n",
    "    \n",
    "    for i in range(200):\n",
    "        loss = 0\n",
    "        for x, y in data:        \n",
    "            feed_dict = {X:x, Y:y }\n",
    "            _,l = sess.run( [opt, E], feed_dict=feed_dict  )\n",
    "            loss += l         \n",
    "            \n",
    "        if i%10 == 0:\n",
    "            print('Epoch {0}: {1}'.format(i, loss/n_samples) )\n",
    "\n",
    "    w, b = sess.run( [w,b] )\n",
    "\n",
    "    \n",
    "print('Result')\n",
    "print(w,b)\n",
    "    \n",
    "# plot the results\n",
    "X, Y = data.T[0], data.T[1]\n",
    "plt.plot(X, Y, 'bo', label='Real data')\n",
    "plt.plot(X, X * w + b, 'r', label='Predicted data')\n",
    "plt.legend()\n",
    "plt.show()\n",
    "\n"
   ]
  },
  {
   "cell_type": "code",
   "execution_count": 25,
   "metadata": {
    "collapsed": false
   },
   "outputs": [
    {
     "name": "stdout",
     "output_type": "stream",
     "text": [
      "Epoch 0: 3.2540038838273\n",
      "Epoch 10: 3.233273138602575\n",
      "Epoch 20: 3.009924883643786\n",
      "Epoch 30: 2.9581027093032994\n",
      "Epoch 40: 2.9168119944986843\n",
      "Epoch 50: 2.803063642411005\n",
      "Epoch 60: 2.819355245857012\n",
      "Epoch 70: 2.770615199492091\n",
      "Epoch 80: 2.641749033260913\n",
      "Epoch 90: 2.8632186388685588\n",
      "Epoch 100: 2.6355551974404428\n",
      "Epoch 110: 2.5910845087131573\n",
      "Epoch 120: 2.261923329815978\n",
      "Epoch 130: 2.503868570285184\n",
      "Epoch 140: 1.6980391666293144\n",
      "Epoch 150: 2.5738574039368403\n",
      "Epoch 160: 2.38131709503276\n",
      "Epoch 170: 1.6424745378040133\n",
      "Epoch 180: 1.555746049043678\n",
      "Epoch 190: 2.2196852030409944\n",
      "0.04165 2.75914 0.511642\n"
     ]
    },
    {
     "data": {
      "image/png": "[encoded data removed]",
      "text/plain": [
       "<matplotlib.figure.Figure at 0x7f0308e60908>"
      ]
     },
     "metadata": {},
     "output_type": "display_data"
    }
   ],
   "source": [
    "# Y_= w*X^2 + u*X + b\n",
    "\n",
    "X = tf.placeholder( dtype=tf.float32, name='X'  )\n",
    "Y = tf.placeholder( dtype=tf.float32, name='Y'  )\n",
    "\n",
    "w = tf.Variable(0.0, 'w')\n",
    "u = tf.Variable(0.0, 'u')\n",
    "b = tf.Variable(0.0, 'b')\n",
    "\n",
    "# function\n",
    "#Yhat =  tf.multiply(X,w) + b\n",
    "Yhat =  X*X*u + X*w + b\n",
    "\n",
    "\n",
    "#E = tf.reduce_mean( tf.square( Yhat - Y ) )\n",
    "#E = tf.nn.l2_loss(Yhat-Y)\n",
    "#E = tf.square( Y - Yhat )\n",
    "\n",
    "# Pseudo-Huber loss function\n",
    "# https://en.wikipedia.org/wiki/Huber_loss\n",
    "# L(a) = delta^2 ( (1+ (a/delta)^2 )^0.5 - 1 )\n",
    "delta = 0.1\n",
    "E = (delta*delta) * ( tf.sqrt(1.0 + tf.square(((Y-Yhat)/delta)) ) - 1.0 )\n",
    "\n",
    "optimizer = tf.train.GradientDescentOptimizer( learning_rate=0.001 )\n",
    "opt_min = optimizer.minimize(E)\n",
    "\n",
    "init = tf.global_variables_initializer()\n",
    "\n",
    "with tf.Session() as sess: \n",
    "    \n",
    "    sess.run( init )\n",
    "    \n",
    "    for i in range(200):\n",
    "        loss = 0\n",
    "        for x, y in data:        \n",
    "            feed_dict = {X:x, Y:y }\n",
    "            _,l = sess.run( [opt_min, E], feed_dict=feed_dict  )\n",
    "            loss += l        \n",
    "            \n",
    "        if i%10 == 0:\n",
    "            print('Epoch {0}: {1}'.format(i, loss/n_samples) )      \n",
    "        \n",
    "    u,w,b = sess.run([u,w,b])\n",
    "\n",
    "print(u,w,b)\n",
    "\n",
    "# plot the results\n",
    "X, Y = data.T[0], data.T[1]\n",
    "plt.plot(X, Y, 'bo', label='Real data')\n",
    "plt.plot(X, X*X*u + X*w + b, 'ro', label='Predicted data')\n",
    "plt.legend()\n",
    "plt.show()\n"
   ]
  },
  {
   "cell_type": "code",
   "execution_count": 8,
   "metadata": {
    "collapsed": false
   },
   "outputs": [],
   "source": [
    "\n",
    "def tflineal( X_input, Y_input, delta = 0.1, learning_rate=0.001, epoch=100 ):\n",
    "    \n",
    "    \n",
    "    n = len(Y_input)\n",
    "    \n",
    "    # Y_= w*X + b\n",
    "    X = tf.placeholder( dtype=tf.float32, name='X'  )\n",
    "    Y = tf.placeholder( dtype=tf.float32, name='Y'  )\n",
    "    w = tf.Variable( 0.0, name='w' )\n",
    "    b = tf.Variable( 0.0, name='b' )\n",
    "    \n",
    "    #function\n",
    "    Yhat = X*w + b \n",
    "    \n",
    "    #loss    \n",
    "    #E = tf.mul( (delta*delta) , ( tf.sqrt(1.0 + tf.square(((Y-Yhat)/delta)) ) - 1.0 ), name='loss')\n",
    "    E = tf.reduce_mean( tf.square( Yhat - Y ), name='loss' )\n",
    "    \n",
    "    #optimizer\n",
    "    opt = tf.train.GradientDescentOptimizer( learning_rate=0.1 ).minimize( E )\n",
    "    \n",
    "    #initialize\n",
    "    init = tf.global_variables_initializer()\n",
    "\n",
    "    with tf.Session() as sess:\n",
    "\n",
    "        writer = tf.summary.FileWriter( './graphs/', sess.graph )\n",
    "        sess.run( init )\n",
    "\n",
    "        for i in range(epoch):\n",
    "            \n",
    "            feed_dict = {X:X_input, Y:Y_input }\n",
    "            _,loss = sess.run([opt,E], feed_dict=feed_dict  )\n",
    "            \n",
    "            #loss = 0\n",
    "            #for k in range(n):        \n",
    "            #    feed_dict = {X:X_input[k], Y:Y_input[k] }\n",
    "            #    _,l = sess.run( [opt, E], feed_dict=feed_dict  )\n",
    "            #    loss += l         \n",
    "\n",
    "            if i%100 == 0:\n",
    "                print('Epoch {0}: {1}'.format(i, loss) )\n",
    "\n",
    "        w, b = sess.run( [w,b] ) \n",
    "    \n",
    "    writer.close()\n",
    "    return w,b\n",
    "\n"
   ]
  },
  {
   "cell_type": "markdown",
   "metadata": {},
   "source": [
    "![](graph.png)"
   ]
  },
  {
   "cell_type": "code",
   "execution_count": 13,
   "metadata": {
    "collapsed": false
   },
   "outputs": [
    {
     "name": "stdout",
     "output_type": "stream",
     "text": [
      "Epoch 0: 3.2466297149658203\n",
      "Epoch 100: 0.26857367157936096\n",
      "Result\n",
      "2.95923 -0.00771226\n"
     ]
    },
    {
     "data": {
      "image/png": "[encoded data removed]",
      "text/plain": [
       "<matplotlib.figure.Figure at 0x7ff2dabce908>"
      ]
     },
     "metadata": {},
     "output_type": "display_data"
    }
   ],
   "source": [
    "X_input = np.linspace(-1,1,100)\n",
    "Y_input = X_input*3 + np.random.randn( X_input.shape[0] )*0.5\n",
    "\n",
    "w,b = tflineal(X_input, Y_input, learning_rate=0.00001, epoch=200);\n",
    "    \n",
    "print('Result')\n",
    "print(w,b)\n",
    "    \n",
    "# plot the results\n",
    "X, Y = X_input, Y_input\n",
    "plt.plot(X, Y, 'bo', label='Real data')\n",
    "plt.plot(X, X * w + b, 'r', label='Predicted data')\n",
    "plt.legend()\n",
    "plt.show()\n"
   ]
  },
  {
   "cell_type": "code",
   "execution_count": 18,
   "metadata": {
    "collapsed": false
   },
   "outputs": [
    {
     "name": "stdout",
     "output_type": "stream",
     "text": [
      "0\n",
      "0.01\n",
      "1\n",
      "0.0099\n"
     ]
    }
   ],
   "source": [
    "#Notas\n",
    "#learning rate\n",
    "\n",
    "global_step   = tf.Variable( 0, dtype=tf.int32, trainable=False )\n",
    "learning_rate = 0.01*0.99**tf.cast( global_step, dtype=tf.float32 )\n",
    "increment_step = global_step.assign_add(1)\n",
    "\n",
    "with tf.Session() as sess:\n",
    "    sess.run( tf.global_variables_initializer() )\n",
    "    print( sess.run(global_step) )\n",
    "    print( sess.run(learning_rate) )\n",
    "    sess.run(increment_step)\n",
    "    print( sess.run(global_step) )\n",
    "    print( sess.run(learning_rate) )\n"
   ]
  },
  {
   "cell_type": "code",
   "execution_count": null,
   "metadata": {
    "collapsed": true
   },
   "outputs": [],
   "source": [
    "# Object oriented programing\n",
    "\n",
    "class linalModel:\n",
    "    \"\"\" Build lineal model \"\"\"\n",
    "    \n",
    "    def __init__(self, params):\n",
    "        pass\n",
    "    \n",
    "    def __\n",
    "\n"
   ]
  }
 ],
 "metadata": {
  "kernelspec": {
   "display_name": "Python [conda root]",
   "language": "python",
   "name": "conda-root-py"
  },
  "language_info": {
   "codemirror_mode": {
    "name": "ipython",
    "version": 3
   },
   "file_extension": ".py",
   "mimetype": "text/x-python",
   "name": "python",
   "nbconvert_exporter": "python",
   "pygments_lexer": "ipython3",
   "version": "3.5.2"
  }
 },
 "nbformat": 4,
 "nbformat_minor": 2
}
