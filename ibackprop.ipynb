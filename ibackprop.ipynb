{
 "cells": [
  {
   "cell_type": "code",
   "execution_count": 34,
   "metadata": {
    "collapsed": true
   },
   "outputs": [],
   "source": [
    "import numpy as np\n",
    "import numpy.matlib"
   ]
  },
  {
   "cell_type": "code",
   "execution_count": 35,
   "metadata": {
    "collapsed": true
   },
   "outputs": [],
   "source": [
    "# Generic Layer class \n",
    "#        + ---- -+\n",
    "# z ---> | layer | -- f(z) -->\n",
    "#        +-------+ <-------- (dz/dx)_i+1 ------\n",
    "#         |    |\n",
    "#    df(z)/dx_i  df(z)/dW_i\n",
    "\n",
    "class layer(object):\n",
    "    \n",
    "    def forward(self, param):\n",
    "        raise NotImplementedError\n",
    "\n",
    "    def backward(self, param):\n",
    "        raise NotImplementedError\n"
   ]
  },
  {
   "cell_type": "code",
   "execution_count": 36,
   "metadata": {
    "collapsed": true
   },
   "outputs": [],
   "source": [
    "# Inner layer class\n",
    "# Ecuation:\n",
    "#    z = W*x + b \n",
    "#   dz/dx_i = W*(dz/dx_i+1) \n",
    "#   dz/dw_i = x*(dz/dx_i+1) \n",
    "#\n",
    "class inner(layer):\n",
    "\n",
    "    # z = W*x + b \n",
    "    def forward(self, param): \n",
    "        return np.dot(param['w'],param['x']);\n",
    "\n",
    "    # dz/dx_i = W*(dz/dx_i+1) \n",
    "    # dz/dw_i = x*(dz/dx_i+1)\n",
    "    def backward(self, param):\n",
    "        return np.dot(param['w'].T, param['dzdx']), np.dot(param['dzdx'],param['x'].T); \n",
    "    "
   ]
  },
  {
   "cell_type": "code",
   "execution_count": 104,
   "metadata": {
    "collapsed": true
   },
   "outputs": [],
   "source": [
    "# Sigmoid layer class\n",
    "# Ecuation:\n",
    "#   z = sigm(x) = 1/(1+exp(-x))\n",
    "#   dz/dx = sigm(x)(1-sigm(x)) *(dz/dx_i+1) \n",
    "#\n",
    "class sigm(layer):\n",
    "    \n",
    "    def forward(self, param): \n",
    "        return self._sigm(param['x']);\n",
    "\n",
    "    def backward(self, param):\n",
    "        return self._sigm(param['x'])*(1.0-self._sigm(param['x']))*param['dzdx']; \n",
    "\n",
    "    def _sigm(self, x): return 1.0/(1.0 + np.exp(-x));\n",
    "    "
   ]
  },
  {
   "cell_type": "code",
   "execution_count": 109,
   "metadata": {
    "collapsed": true
   },
   "outputs": [],
   "source": [
    "# Loss layer class\n",
    "# Ecuation:\n",
    "#   z = 1/2 (y-x)^2\n",
    "#   dz/dx = (x-y)*(dz/dx_i+1) \n",
    "#   note: dz/dx_n = 1  \n",
    "#\n",
    "class loss(layer):\n",
    "    \n",
    "    def forward(self, param):         \n",
    "        return  (1.0/(2.0*len(param['y']))*np.sum((param['y']-param['x'])**2));\n",
    "\n",
    "    def backward(self, param):\n",
    "        return (param['x']-param['y'])*param['dzdx']; \n"
   ]
  },
  {
   "cell_type": "code",
   "execution_count": 110,
   "metadata": {
    "collapsed": true
   },
   "outputs": [],
   "source": [
    "# Create cost function neural netword\n",
    "# Demo\n",
    "#         +--------+    +--------+     +--------+              +--------+\n",
    "#   ----> | inner  |--> | inner  |---> | sigm   | ---->(*)---> | loss   |\n",
    "#         +--------+    +--------+     +--------+              +--------+\n",
    "\n",
    "# Const function\n",
    "def costFunc( x, w1, w2):\n",
    "    '''\n",
    "    forward function\n",
    "    Entrada:\n",
    "        * x vector nxm. m featurs\n",
    "        * w1, w2 weigths\n",
    "    Return:\n",
    "        * z4\n",
    "    \n",
    "    Note: b=0\n",
    "    '''\n",
    "\n",
    "    z1 = x;\n",
    "    z2 = inner().forward({'x':z1, 'w':w1}) \n",
    "    z3 = inner().forward({'x':z2, 'w':w2}) \n",
    "    z4 =  sigm().forward({'x':z3});\n",
    "    return z4;\n",
    "\n",
    "\n"
   ]
  },
  {
   "cell_type": "code",
   "execution_count": 111,
   "metadata": {},
   "outputs": [
    {
     "name": "stdout",
     "output_type": "stream",
     "text": [
      "8.81083005274\n"
     ]
    }
   ],
   "source": [
    "# data\n",
    "x = np.matrix([[1,2,3]], dtype=np.float64).T;\n",
    "y = np.matrix([5.0], dtype=np.float64);\n",
    "\n",
    "# init weigth\n",
    "w1 = np.matrix([[0.1, 0.2, 0.3],[0.1, 0.2, 0.3]], dtype=np.float64)\n",
    "w2 = np.matrix([0.8, 0.2], dtype=np.float64)\n",
    "\n",
    "\n",
    "y_ = costFunc( x, w1, w2);\n",
    "e = loss().forward({'x':y_,'y':y});\n",
    "print(e)\n",
    "\n"
   ]
  },
  {
   "cell_type": "code",
   "execution_count": 22,
   "metadata": {
    "collapsed": true
   },
   "outputs": [],
   "source": [
    "# Gradind function\n",
    "def gradCostFunc(x, y, w1, w2):\n",
    "    '''\n",
    "    Apply backward function\n",
    "    Compute dervative with respect to w1 and w2\n",
    "    '''\n",
    "    \n",
    "    # forward --->\n",
    "    z1 = x;\n",
    "    z2 = inner().forward({'x':z1, 'w':w1}) \n",
    "    z3 = inner().forward({'x':z2, 'w':w2}) \n",
    "    z4 =  sigm().forward({'x':z3});\n",
    "    z5 = loss().forward({'x':z4, 'y':y});\n",
    "\n",
    "    E = z5;\n",
    "\n",
    "    # <--- backward\n",
    "    l5 = 1;\n",
    "    l4 = loss().backward({'x':z4, 'y':y, 'dzdx':l5} );    \n",
    "    l3 = sigm().backward({'x':z3, 'dzdx':l4});\n",
    "    l2, dEdW2 = inner().backward({'x':z2, 'w':w2, 'dzdx':l3});\n",
    "    _ , dEdW1 = inner().backward({'x':z1, 'w':w1, 'dzdx':l2});\n",
    "\n",
    "\n",
    "    return E, dEdW1, dEdW2"
   ]
  },
  {
   "cell_type": "code",
   "execution_count": null,
   "metadata": {
    "collapsed": true
   },
   "outputs": [],
   "source": [
    "# derivate\n",
    "# grad J(x)\n",
    "E, dEdW1, dEdW2 = gradCostFunc(x, y, w1, w2);\n",
    "\n",
    "\n",
    "# minimization with gradien decent\n",
    "# w^t = w^(t-1) + lr*gardJ\n",
    "\n",
    "print(E)\n",
    "print(dEdW1)\n",
    "print(dEdW2)"
   ]
  }
 ],
 "metadata": {
  "kernelspec": {
   "display_name": "Python 2",
   "language": "python",
   "name": "python2"
  },
  "language_info": {
   "codemirror_mode": {
    "name": "ipython",
    "version": 2
   },
   "file_extension": ".py",
   "mimetype": "text/x-python",
   "name": "python",
   "nbconvert_exporter": "python",
   "pygments_lexer": "ipython2",
   "version": "2.7.12"
  }
 },
 "nbformat": 4,
 "nbformat_minor": 2
}
