{
 "cells": [
  {
   "cell_type": "markdown",
   "metadata": {},
   "source": [
    "# Notebook for deep learning (basic concepts)"
   ]
  },
  {
   "cell_type": "markdown",
   "metadata": {},
   "source": [
    "In this notebook we implemented de basic neural net framework. The idea is describe the basic concepts of neural net definition and the way to implement backpropagation derivation.\n",
    "\n",
    "Some usefull references and tutorials are:\n",
    "\n",
    "- https://mattmazur.com/2015/03/17/a-step-by-step-backpropagation-example/\n",
    "- https://www.youtube.com/watch?v=GlcnxUlrtek\n",
    "- http://neuralnetworksanddeeplearning.com/chap3.html\n",
    "- https://www.youtube.com/watch?v=-YRB0eFxeQA&list=PLE6Wd9FR--EfW8dtjAuPoTuPcqmOV53Fu&index=10\n",
    "- https://www.youtube.com/watch?v=PpFTODTztsU&list=PL6Xpj9I5qXYEcOhn7TqghAJ6NAPrNmUBH&index=8\n",
    "- https://stats.stackexchange.com/questions/235528/backpropagation-with-softmax-cross-entropy\n",
    "\n",
    "\n",
    "Currently we are using Caffe:\n",
    "- http://christopher5106.github.io/deep/learning/2015/09/04/Deep-learning-tutorial-on-Caffe-Technology.html\n",
    "- http://www.andrewjanowczyk.com/real-time-data-augmentation-using-nvidia-digits-python-layer/\n",
    "\n",
    "\n",
    "\n"
   ]
  },
  {
   "cell_type": "code",
   "execution_count": 11,
   "metadata": {
    "collapsed": true
   },
   "outputs": [],
   "source": [
    "import numpy as np\n",
    "import numpy.matlib\n",
    "import matplotlib.pyplot as plt\n",
    "%matplotlib inline"
   ]
  },
  {
   "cell_type": "markdown",
   "metadata": {},
   "source": [
    "\n",
    "Neural network could be seen as a function J(x), an example of a simple net is:\n",
    "\n",
    "    J(x) = 1/2(y - sigm( W2*( W1*x + b1) +b2 ) )\n",
    "\n",
    "then can be defined:\n",
    "\n",
    "    z_1 = x\n",
    "    z_2 = W1*z_1 + b1\n",
    "    z_3 = W2*z_2 + b2\n",
    "    z_4 = sigm( z_3 )\n",
    "    z_5 = 1/2(y-z_4)\n",
    "\n",
    "Train the net means obtain parameters {w1, w2} that minimize the function J(x).\n",
    "Descend gradient iterative solution update net weights such that:\n",
    "\n",
    "    min_{W_i} J(x)\n",
    "    \n",
    "Weights update could be done as:\n",
    "\n",
    "    {W_i}^t = {W_i}^t-1 + delta * grad J(x)\n",
    "    \n",
    "\n",
    "\n"
   ]
  },
  {
   "cell_type": "markdown",
   "metadata": {},
   "source": [
    "## Caffe layers interface\n",
    "\n",
    "Caffe has a layer interface with functions to compute forward() and backward(). Also, the interface have two methods (not covered in this example) setup() and reshape() for automatically set the parameters and quantity of neurons in the layer depending on input data size. Caffe currently allows python layers implementation."
   ]
  },
  {
   "cell_type": "code",
   "execution_count": 4,
   "metadata": {
    "collapsed": true
   },
   "outputs": [],
   "source": [
    "# Example of generic Layer class \n",
    "#        + ---- -+\n",
    "# z ---> | layer | -- f(z) -->\n",
    "#        +-------+ <-------- (dz/dx)_i+1 ------\n",
    "#         |      |\n",
    "#    df(z)/dx_i  df(z)/dW_i\n",
    "\n",
    "class layer(object):\n",
    "    \n",
    "    def forward(self, param):\n",
    "        raise NotImplementedError\n",
    "\n",
    "    def backward(self, param):\n",
    "        raise NotImplementedError\n"
   ]
  },
  {
   "cell_type": "markdown",
   "metadata": {},
   "source": [
    "Lets implement a layer for inner product. For this only forward() and backward() methods need to be defined. Backward method referes to layer derivative. Because this layer depends on input vector x and weights W, derivative respect both must be calculated. 'dzdx' parameter refers to propagated error."
   ]
  },
  {
   "cell_type": "code",
   "execution_count": 5,
   "metadata": {
    "collapsed": true
   },
   "outputs": [],
   "source": [
    "# Inner layer class\n",
    "# Ecuation:\n",
    "#    z = W*x + b \n",
    "#   dz/dx_i = W*(dz/dx_{i+1}) \n",
    "#   dz/dw_i = x*(dz/dx_{i+1}) \n",
    "#\n",
    "class inner(layer):\n",
    "\n",
    "    # z = W*x + b \n",
    "    def forward(self, param): \n",
    "        return np.dot(param['w'],param['x']);\n",
    "\n",
    "    # dz/dx_i = W*(dz/dx_{i+1}) \n",
    "    # dz/dw_i = x*(dz/dx_{i+1})\n",
    "    def backward(self, param):\n",
    "        return np.dot(param['w'].T, param['dzdx']), np.dot(param['dzdx'],param['x'].T); \n",
    "    "
   ]
  },
  {
   "cell_type": "markdown",
   "metadata": {},
   "source": [
    "And for sigmoid function:"
   ]
  },
  {
   "cell_type": "code",
   "execution_count": 8,
   "metadata": {
    "collapsed": true
   },
   "outputs": [],
   "source": [
    "# Sigmoid layer class\n",
    "# Ecuation:\n",
    "#   z = sigm(x) = 1/(1+exp(-x))\n",
    "#   dz/dx = sigm(x)(1-sigm(x)) *(dz/dx_i+1) \n",
    "#\n",
    "class sigm(layer):\n",
    "    \n",
    "    def forward(self, param): \n",
    "        return self._sigm(param['x']);\n",
    "\n",
    "    def backward(self, param):\n",
    "        return self._sigm(param['x'])*(1.0-self._sigm(param['x']))*param['dzdx']; \n",
    "\n",
    "    def _sigm(self, x): return 1.0/(1.0 + np.exp(-x));\n",
    "    "
   ]
  },
  {
   "cell_type": "code",
   "execution_count": 10,
   "metadata": {},
   "outputs": [
    {
     "data": {
      "text/plain": [
       "<matplotlib.legend.Legend at 0x7fcacb451850>"
      ]
     },
     "execution_count": 10,
     "metadata": {},
     "output_type": "execute_result"
    },
    {
     "data": {
      "image/png": "[encoded data removed]",
      "text/plain": [
       "<matplotlib.figure.Figure at 0x7fcacb733190>"
      ]
     },
     "metadata": {},
     "output_type": "display_data"
    }
   ],
   "source": [
    "x = np.arange(-5,5,0.01)\n",
    "plt.plot(x, sigm().forward({'x':x}), linewidth=2)\n",
    "plt.plot(x, sigm().backward({'x':x, 'dzdx':1}), linewidth=2)\n",
    "plt.grid(1)\n",
    "plt.legend(['sigmoid', 'sigmoidPrime'])"
   ]
  },
  {
   "cell_type": "markdown",
   "metadata": {},
   "source": [
    "Now, lets define or loss function. In this case correspond to MSE. For custom loss implementation only forward and backward definition is needed. An example of custom loss layer in caffe with python is given in https://chrischoy.github.io/research/caffe-python-layer/.\n",
    "Tensorflow use the same idea. If you define a custom loss function with existing operations tf take derivative for you, example:\n",
    "\n",
    "    loss_mse = 1/n(sum((y-y_)^2)))\n",
    "\n",
    "can be defined as:\n",
    "\n",
    "    cost = tf.reduce_mean(tf.square(tf.sub(y,y_)))\n",
    "\n",
    "in other case c++ implementation must be done with the same idea (functions to do forward and backwards)."
   ]
  },
  {
   "cell_type": "code",
   "execution_count": 21,
   "metadata": {
    "collapsed": true
   },
   "outputs": [],
   "source": [
    "# Loss layer class\n",
    "# Ecuation:\n",
    "#   z = 1/2 (y-x)^2\n",
    "#   dz/dx = (x-y)*(dz/dx_i+1) \n",
    "#   note: dz/dx_n = 1  \n",
    "#\n",
    "class loss(layer):\n",
    "    \n",
    "    def forward(self, param):         \n",
    "        return  (1.0/(2.0*len(param['y']))*np.sum((param['y']-param['x'])**2));\n",
    "\n",
    "    def backward(self, param):\n",
    "        return (param['x']-param['y'])*param['dzdx']; \n"
   ]
  },
  {
   "cell_type": "markdown",
   "metadata": {},
   "source": [
    "With this, evaluation (forward) in previous network can be defined as:"
   ]
  },
  {
   "cell_type": "code",
   "execution_count": 22,
   "metadata": {
    "collapsed": true
   },
   "outputs": [],
   "source": [
    "# Create cost function neural netword\n",
    "# Demo\n",
    "#         +--------+    +--------+     +--------+              +--------+\n",
    "#   ----> | inner  |--> | inner  |---> | sigm   | ---->(*)---> | loss   |\n",
    "#         +--------+    +--------+     +--------+              +--------+\n",
    "\n",
    "# Const function\n",
    "def costFunc( x, w1, w2):\n",
    "    '''\n",
    "    forward function\n",
    "    Entrada:\n",
    "        * x vector nxm. m featurs\n",
    "        * w1, w2 weigths\n",
    "    Return:\n",
    "        * z4\n",
    "    \n",
    "    Note: b=0\n",
    "    '''\n",
    "\n",
    "    z1 = x;\n",
    "    z2 = inner().forward({'x':z1, 'w':w1}) \n",
    "    z3 = inner().forward({'x':z2, 'w':w2}) \n",
    "    z4 =  sigm().forward({'x':z3});\n",
    "    return z4;\n",
    "\n",
    "\n"
   ]
  },
  {
   "cell_type": "markdown",
   "metadata": {},
   "source": [
    "An example of network initialization and evaluation:"
   ]
  },
  {
   "cell_type": "code",
   "execution_count": 23,
   "metadata": {},
   "outputs": [
    {
     "name": "stdout",
     "output_type": "stream",
     "text": [
      "Loss: 0.0195656069729\n"
     ]
    }
   ],
   "source": [
    "# create data\n",
    "\n",
    "# data\n",
    "x = np.matrix([[1,2,3]], dtype=np.float64).T;\n",
    "y = np.matrix([1.0], dtype=np.float64);\n",
    "\n",
    "# init weights\n",
    "w1 = np.matrix([[0.1, 0.2, 0.3],[0.1, 0.2, 0.3]], dtype=np.float64)\n",
    "w2 = np.matrix([0.8, 0.2], dtype=np.float64)\n",
    "\n",
    "# evaluate function\n",
    "y_ = costFunc( x, w1, w2);\n",
    "e = loss().forward({'x':y_,'y':y});\n",
    "\n",
    "print 'Loss:',e\n",
    "\n"
   ]
  },
  {
   "cell_type": "markdown",
   "metadata": {},
   "source": [
    "For forward and backward computation:"
   ]
  },
  {
   "cell_type": "code",
   "execution_count": 15,
   "metadata": {
    "collapsed": true
   },
   "outputs": [],
   "source": [
    "# Gradind function\n",
    "def gradCostFunc(x, y, w1, w2):\n",
    "    '''\n",
    "    Apply backward function\n",
    "    Compute dervative with respect to w1 and w2\n",
    "    '''\n",
    "    \n",
    "    # forward --->\n",
    "    z1 = x;\n",
    "    z2 = inner().forward({'x':z1, 'w':w1}) \n",
    "    z3 = inner().forward({'x':z2, 'w':w2}) \n",
    "    z4 =  sigm().forward({'x':z3});\n",
    "    z5 = loss().forward({'x':z4, 'y':y});\n",
    "\n",
    "    E = z5;\n",
    "\n",
    "    # <--- backward\n",
    "    l5 = 1;\n",
    "    l4 = loss().backward({'x':z4, 'y':y, 'dzdx':l5} );    \n",
    "    l3 = sigm().backward({'x':z3, 'dzdx':l4});\n",
    "    l2, dEdW2 = inner().backward({'x':z2, 'w':w2, 'dzdx':l3});\n",
    "    _ , dEdW1 = inner().backward({'x':z1, 'w':w1, 'dzdx':l2});\n",
    "\n",
    "\n",
    "    return E, dEdW1, dEdW2"
   ]
  },
  {
   "cell_type": "markdown",
   "metadata": {},
   "source": [
    "Then, for previous example, gradients of weights are:"
   ]
  },
  {
   "cell_type": "code",
   "execution_count": 16,
   "metadata": {},
   "outputs": [
    {
     "name": "stdout",
     "output_type": "stream",
     "text": [
      "0.0195656069729\n",
      "[[-0.02511234 -0.05022469 -0.07533703]\n",
      " [-0.00627809 -0.01255617 -0.01883426]]\n",
      "[[-0.0439466 -0.0439466]]\n"
     ]
    }
   ],
   "source": [
    "# derivate\n",
    "# grad J(x)\n",
    "E, dEdW1, dEdW2 = gradCostFunc(x, y, w1, w2);\n",
    "\n",
    "\n",
    "# minimization with gradien decent\n",
    "# w^t = m*w^(t-1) + lr*gardJ  \n",
    "\n",
    "print(E)\n",
    "print(dEdW1)\n",
    "print(dEdW2)"
   ]
  }
 ],
 "metadata": {
  "kernelspec": {
   "display_name": "Python 2",
   "language": "python",
   "name": "python2"
  },
  "language_info": {
   "codemirror_mode": {
    "name": "ipython",
    "version": 2
   },
   "file_extension": ".py",
   "mimetype": "text/x-python",
   "name": "python",
   "nbconvert_exporter": "python",
   "pygments_lexer": "ipython2",
   "version": "2.7.12"
  }
 },
 "nbformat": 4,
 "nbformat_minor": 2
}
