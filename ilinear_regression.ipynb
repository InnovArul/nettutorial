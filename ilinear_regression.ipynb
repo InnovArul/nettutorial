{
 "cells": [
  {
   "cell_type": "code",
   "execution_count": 2,
   "metadata": {
    "collapsed": true
   },
   "outputs": [],
   "source": [
    "import numpy as np\n",
    "import matplotlib.pyplot as plt\n",
    "import numpy.matlib\n",
    "import layers as net\n",
    "%matplotlib inline"
   ]
  },
  {
   "cell_type": "code",
   "execution_count": 3,
   "metadata": {
    "collapsed": true
   },
   "outputs": [],
   "source": [
    "# aux funtion\n",
    "def plotData(x,y):\n",
    "    plt.plot(x,y,'or');\n",
    "    plt.ylabel('Profit in $10,000s');\n",
    "    plt.xlabel('Population of City in 10,000s');\n",
    "    plt.grid(1)\n",
    "\n",
    "def plotLoss(J):\n",
    "    plt.plot(J);\n",
    "    plt.ylabel('J(x)');\n",
    "    plt.xlabel('epoch');\n",
    "    plt.grid(1)\n",
    "    "
   ]
  },
  {
   "cell_type": "code",
   "execution_count": 4,
   "metadata": {},
   "outputs": [
    {
     "data": {
      "image/png": "[encoded data removed]",
      "text/plain": [
       "<matplotlib.figure.Figure at 0x7f5bff10e490>"
      ]
     },
     "metadata": {},
     "output_type": "display_data"
    }
   ],
   "source": [
    "# Load data\n",
    "datas = np.loadtxt('data.txt', delimiter=',');\n",
    "Xo = datas[:,0]; y = datas[:,1];\n",
    "m = len(y);\n",
    "\n",
    "# plot data\n",
    "plotData(Xo,y);"
   ]
  },
  {
   "cell_type": "code",
   "execution_count": 5,
   "metadata": {
    "collapsed": true
   },
   "outputs": [],
   "source": [
    "# Create cost function neural netword\n",
    "# Demo\n",
    "#         +--------+            +--------+\n",
    "#   ----> | inner  |--> (*)---> | loss   |\n",
    "#         +--------+            +--------+\n",
    "\n",
    "# Const function\n",
    "def costFunc( x, w1):\n",
    "\n",
    "    m  = x.shape[0];\n",
    "    z = 0.0; \n",
    "    for i in range(m):       \n",
    "        z1 = x[i,:].T;\n",
    "        z += net.inner().forward({'x':z1, 'w':w1}) \n",
    "    return z/m;\n",
    "\n",
    "# Gradind function\n",
    "def gradCostFunc(x, y, w1):\n",
    "    \n",
    "    m  = x.shape[0];\n",
    "    dEdW1 = 0.0; E = 0.0;\n",
    "    for i in range(m):\n",
    "\n",
    "        # forward --->\n",
    "        z1 = np.matrix(x[i,:]).T; yi = np.matrix(y[i]);   \n",
    "        z2 = net.inner().forward({'x':z1, 'w':w1})         \n",
    "        z = net.loss().forward({'x':z2, 'y':yi});\n",
    "        E += z;\n",
    "        \n",
    "        # <--- backward\n",
    "        l4 = [1];\n",
    "        l3 = net.loss().backward({'x':z2, 'y':yi, 'dzdx':l4} );    \n",
    "        _ , dEdW1_i = net.inner().backward({'x':z1, 'w':w1, 'dzdx':l3});\n",
    "\n",
    "        dEdW1 += dEdW1_i;\n",
    "\n",
    "    return E/m, dEdW1/m\n",
    "\n",
    "def loss(y,y_):\n",
    "    m  = len(y);\n",
    "    e = 0.0;\n",
    "    for i in range(m):\n",
    "        e += net.loss().forward({'x':np.matrix(y_[i]), 'y':np.matrix(y[i])});\n",
    "    return e/m;\n",
    "\n",
    "  \n"
   ]
  },
  {
   "cell_type": "code",
   "execution_count": 6,
   "metadata": {
    "collapsed": true
   },
   "outputs": [],
   "source": [
    "# Performs gradient descent to learn theta\n",
    "def gradDescent(x,y,w1, alpha, numiter):\n",
    "    \n",
    "    E_h = np.zeros((numiter,1), dtype=np.float32); \n",
    "    for i in range(numiter):\n",
    "        E, dEdW1 = gradCostFunc(X, y, w1);\n",
    "        w1 = w1 - alpha*dEdW1;\n",
    "        \n",
    "        E_h[i] = E;\n",
    "        #print('E = {} dEdW = {}'.format(E, dEdW1));\n",
    "\n",
    "    return w1, E_h;"
   ]
  },
  {
   "cell_type": "code",
   "execution_count": 11,
   "metadata": {},
   "outputs": [
    {
     "name": "stdout",
     "output_type": "stream",
     "text": [
      "Theta found by gradient descent: -3.63 1.17\n"
     ]
    }
   ],
   "source": [
    "# Running Gradient Descent\n",
    "X = np.concatenate((np.ones((m,1)),Xo.reshape(m,1)),axis=1)\n",
    "\n",
    "# Wrigth initialization\n",
    "# w1 = np.random.randn(1,2);\n",
    "w1 = np.zeros((1,2), dtype=np.float32);\n",
    "\n",
    "# Some gradient descent settings\n",
    "iterations = 1500;\n",
    "alpha = 0.01;\n",
    "\n",
    "theta, j = gradDescent(X,y,w1, alpha, iterations)\n",
    "\n",
    "# print theta to screen\n",
    "print('Theta found by gradient descent: {:.2f} {:.2f}'.format(theta[0,0], theta[0,1]));"
   ]
  },
  {
   "cell_type": "code",
   "execution_count": 12,
   "metadata": {},
   "outputs": [
    {
     "data": {
      "image/png": "[encoded data removed]",
      "text/plain": [
       "<matplotlib.figure.Figure at 0x7f5bdd257210>"
      ]
     },
     "metadata": {},
     "output_type": "display_data"
    }
   ],
   "source": [
    "# Plot error\n",
    "plotLoss(j)\n",
    "plt.show()"
   ]
  },
  {
   "cell_type": "code",
   "execution_count": 13,
   "metadata": {},
   "outputs": [
    {
     "data": {
      "image/png": "[encoded data removed]",
      "text/plain": [
       "<matplotlib.figure.Figure at 0x7f5bdd2fda90>"
      ]
     },
     "metadata": {},
     "output_type": "display_data"
    }
   ],
   "source": [
    "# Plot the linear fit\n",
    "plotData(Xo,y);\n",
    "plt.plot(X[:,1], X*theta.T, '-')\n",
    "plt.legend(['Training data', 'Linear regression'])\n",
    "plt.show()"
   ]
  },
  {
   "cell_type": "code",
   "execution_count": 14,
   "metadata": {},
   "outputs": [
    {
     "name": "stdout",
     "output_type": "stream",
     "text": [
      "For population = 35,000, we predict a profit of [[ 4519.7678677]]\n",
      "For population = 70,000, we predict a profit of [[ 45342.45012945]]\n"
     ]
    }
   ],
   "source": [
    "# Predict values for population sizes of 35,000 and 70,000\n",
    "predict1 = [1, 3.5] *theta.T;\n",
    "print('For population = 35,000, we predict a profit of {}'.format(predict1*10000));\n",
    "predict2 = [1, 7] * theta.T;\n",
    "print('For population = 70,000, we predict a profit of {}'.format(predict2*10000));"
   ]
  },
  {
   "cell_type": "code",
   "execution_count": null,
   "metadata": {
    "collapsed": true
   },
   "outputs": [],
   "source": []
  }
 ],
 "metadata": {
  "kernelspec": {
   "display_name": "Python 2",
   "language": "python",
   "name": "python2"
  },
  "language_info": {
   "codemirror_mode": {
    "name": "ipython",
    "version": 2
   },
   "file_extension": ".py",
   "mimetype": "text/x-python",
   "name": "python",
   "nbconvert_exporter": "python",
   "pygments_lexer": "ipython2",
   "version": "2.7.12"
  }
 },
 "nbformat": 4,
 "nbformat_minor": 2
}
