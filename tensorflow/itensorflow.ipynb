{
 "cells": [
  {
   "cell_type": "code",
   "execution_count": 5,
   "metadata": {
    "collapsed": false
   },
   "outputs": [
    {
     "name": "stdout",
     "output_type": "stream",
     "text": [
      "0.12.1\n"
     ]
    }
   ],
   "source": [
    "import tensorflow as tf\n",
    "import numpy as np\n",
    "\n",
    "print(tf.__version__)"
   ]
  },
  {
   "cell_type": "code",
   "execution_count": 10,
   "metadata": {
    "collapsed": false
   },
   "outputs": [
    {
     "name": "stdout",
     "output_type": "stream",
     "text": [
      "[16, 4]\n"
     ]
    }
   ],
   "source": [
    "x = 2;\n",
    "y = 2;\n",
    "op1 = tf.add(x,y)\n",
    "op2 = tf.mul(x,y)\n",
    "op3 = tf.pow(x,op2)\n",
    "\n",
    "#sess = tf.Session()\n",
    "#print( sess.run(op3) )\n",
    "\n",
    "with tf.Session() as sess:\n",
    "    print( sess.run([op3, op2 ]) )\n",
    "\n"
   ]
  },
  {
   "cell_type": "code",
   "execution_count": 13,
   "metadata": {
    "collapsed": false
   },
   "outputs": [
    {
     "name": "stdout",
     "output_type": "stream",
     "text": [
      "8\n"
     ]
    }
   ],
   "source": [
    "\n",
    "g = tf.Graph()\n",
    "with g.as_default():\n",
    "    x = tf.add(3,5)\n",
    "\n",
    "sess = tf.Session( graph=g )\n",
    "print(sess.run(x))\n",
    "sess.close()\n"
   ]
  },
  {
   "cell_type": "code",
   "execution_count": 2,
   "metadata": {
    "collapsed": false
   },
   "outputs": [
    {
     "name": "stdout",
     "output_type": "stream",
     "text": [
      "5\n"
     ]
    }
   ],
   "source": [
    "# tensorboard\n",
    "# !tensorboard --logdir=\"./graphs\"\n",
    "\n",
    "path_logs = './graphs'\n",
    "\n",
    "#\n",
    "# -a +-----+\n",
    "#    | add | --\n",
    "# -b +-----+\n",
    "#\n",
    "\n",
    "a = tf.constant(2, name='a');\n",
    "b = tf.constant(3, name='b');\n",
    "x = tf.add(a,b, name='add')\n",
    "\n",
    "with tf.Session() as sess:\n",
    "    write = tf.summary.FileWriter( path_logs, sess.graph )\n",
    "    print( sess.run(x) )\n",
    "    \n",
    "write.close()"
   ]
  },
  {
   "cell_type": "code",
   "execution_count": 6,
   "metadata": {
    "collapsed": false
   },
   "outputs": [
    {
     "name": "stdout",
     "output_type": "stream",
     "text": [
      "[[0 2]\n",
      " [4 6]]\n"
     ]
    }
   ],
   "source": [
    "\n",
    "# constant type\n",
    "#tf.constant(value, dtype=None, shape=None, name='Const', verify_shape=False)\n",
    "\n",
    "a = tf.constant([2, 2], name='a')\n",
    "b = tf.constant([[0, 1], [2, 3]], name='b')\n",
    "x = tf.multiply(a, b, name='dot_product')\n",
    "with tf.Session() as sess:\n",
    "    print(sess.run(x))\n",
    "\n"
   ]
  },
  {
   "cell_type": "code",
   "execution_count": 2,
   "metadata": {
    "collapsed": false
   },
   "outputs": [
    {
     "name": "stdout",
     "output_type": "stream",
     "text": [
      "Tensor(\"y:0\", shape=(2, 3), dtype=int32)\n",
      "node {\n",
      "  name: \"x\"\n",
      "  op: \"Const\"\n",
      "  attr {\n",
      "    key: \"dtype\"\n",
      "    value {\n",
      "      type: DT_INT32\n",
      "    }\n",
      "  }\n",
      "  attr {\n",
      "    key: \"value\"\n",
      "    value {\n",
      "      tensor {\n",
      "        dtype: DT_INT32\n",
      "        tensor_shape {\n",
      "          dim {\n",
      "            size: 2\n",
      "          }\n",
      "          dim {\n",
      "            size: 3\n",
      "          }\n",
      "        }\n",
      "        int_val: 0\n",
      "      }\n",
      "    }\n",
      "  }\n",
      "}\n",
      "node {\n",
      "  name: \"y\"\n",
      "  op: \"ZerosLike\"\n",
      "  input: \"x\"\n",
      "  attr {\n",
      "    key: \"T\"\n",
      "    value {\n",
      "      type: DT_INT32\n",
      "    }\n",
      "  }\n",
      "}\n",
      "versions {\n",
      "  producer: 17\n",
      "}\n",
      "\n",
      "[[0 0 0]\n",
      " [0 0 0]]\n"
     ]
    }
   ],
   "source": [
    "#tf.zeros(shape, dtype=tf.float32, name=None)\n",
    "\n",
    "x = tf.zeros([2, 3], tf.int32, name='x') \n",
    "y = tf.zeros_like(x, optimize=True, name='y')\n",
    "\n",
    "print(y)\n",
    "print(tf.get_default_graph().as_graph_def())\n",
    "\n",
    "with tf.Session() as sess:\n",
    "    y = sess.run(y)\n",
    "    print(y)"
   ]
  },
  {
   "cell_type": "code",
   "execution_count": 4,
   "metadata": {
    "collapsed": false
   },
   "outputs": [
    {
     "name": "stdout",
     "output_type": "stream",
     "text": [
      "[ 10.  11.  12.  13.]\n",
      "[0 1 2 3 4]\n",
      "0\n",
      "1\n",
      "2\n",
      "3\n",
      "4\n"
     ]
    }
   ],
   "source": [
    "\n",
    "with tf.Session() as sess:\n",
    "    print(sess.run(tf.linspace(10.0, 13.0, 4)))\n",
    "    print(sess.run(tf.range(5)))\n",
    "    for i in np.arange(5):\n",
    "        print(i)\n",
    "\n"
   ]
  },
  {
   "cell_type": "code",
   "execution_count": 6,
   "metadata": {
    "collapsed": false
   },
   "outputs": [
    {
     "name": "stdout",
     "output_type": "stream",
     "text": [
      "[0, 1]\n"
     ]
    }
   ],
   "source": [
    "t_0 = 19 \n",
    "x = tf.zeros_like(t_0) # ==> 0\n",
    "y = tf.ones_like(t_0) # ==> 1\n",
    "\n",
    "with tf.Session() as sess:\n",
    "    print(sess.run([x, y]))"
   ]
  },
  {
   "cell_type": "code",
   "execution_count": 9,
   "metadata": {
    "collapsed": false
   },
   "outputs": [
    {
     "name": "stdout",
     "output_type": "stream",
     "text": [
      "[array([[False, False, False],\n",
      "       [False, False, False],\n",
      "       [False, False, False]], dtype=bool), array([[ True,  True,  True],\n",
      "       [ True,  True,  True],\n",
      "       [ True,  True,  True]], dtype=bool)]\n"
     ]
    }
   ],
   "source": [
    "t_1 = ['apple', 'peach', 'banana']\n",
    "x = tf.zeros_like(t_1) # ==> ['' '' '']\n",
    "#y = tf.ones_like(t_1) # ==> TypeError: Expected string, got 1 of type 'int' instead.\n",
    "\n",
    "t_2 = [[True, False, False],\n",
    "       [False, False, True],\n",
    "       [False, True, False]] \n",
    "x = tf.zeros_like(t_2) # ==> 2x2 tensor, all elements are False\n",
    "y = tf.ones_like(t_2) # ==> 2x2 tensor, all elements are True\n",
    "with tf.Session() as sess:\n",
    "    print(sess.run([x, y]))\n"
   ]
  },
  {
   "cell_type": "code",
   "execution_count": 2,
   "metadata": {
    "collapsed": false
   },
   "outputs": [],
   "source": [
    "with tf.variable_scope('meh') as scope:\n",
    "    a = tf.get_variable('a', [10])\n",
    "    b = tf.get_variable('b', [100])\n",
    "\n",
    "writer = tf.summary.FileWriter('./graphs', tf.get_default_graph())\n"
   ]
  },
  {
   "cell_type": "code",
   "execution_count": 19,
   "metadata": {
    "collapsed": false
   },
   "outputs": [
    {
     "name": "stdout",
     "output_type": "stream",
     "text": [
      "[768.0, 32.0]\n",
      "dz/dy = 32.0*dy/dx\n",
      "dz/dy = 768.0\n"
     ]
    }
   ],
   "source": [
    "\n",
    "#y = 2*x^3\n",
    "#z = 3 + y^2\n",
    "\n",
    "#dz/dy = dz/dy*dy/dx\n",
    "#dz/dy = (2y)*(6x^2) = 12*yx^2\n",
    "#      = 12*(2*x^3)*x^2\n",
    "#      = 24*x^5\n",
    "\n",
    "x = tf.Variable(2.0)\n",
    "y = 2.0 * (x ** 3)\n",
    "z = 3.0 + y ** 2\n",
    "grad_z = tf.gradients(z, [x, y])\n",
    "with tf.Session() as sess:\n",
    "    sess.run(x.initializer)\n",
    "    print(sess.run(grad_z))\n",
    "\n",
    "x_ = 2.0\n",
    "print('dz/dy = {}*dy/dx'.format(4*x_**3) )\n",
    "print('dz/dy = {}'.format(24*x_**5) )\n"
   ]
  },
  {
   "cell_type": "code",
   "execution_count": 25,
   "metadata": {
    "collapsed": false
   },
   "outputs": [
    {
     "name": "stdout",
     "output_type": "stream",
     "text": [
      "Tensor(\"W/read:0\", shape=(10, 10), dtype=float32)\n",
      "[[-0.40563682  0.16062029 -0.71486294  0.24939488  0.04161522  0.474022\n",
      "   1.79872763 -0.49964508  0.16275671 -0.05247218]\n",
      " [ 0.74917567 -0.46427971 -0.10228646 -1.86843133 -0.9804033   0.15528598\n",
      "  -0.81140155  0.61410964  0.74684948  0.48466322]\n",
      " [-0.03071053 -0.22619423 -0.19512153 -1.66248596  1.03542316  0.62709397\n",
      "  -1.04152501 -0.07148623 -0.04174674 -0.12625839]\n",
      " [-1.24382877  0.52946997 -0.84973633  0.06872373  1.50142717 -0.37171298\n",
      "  -0.01037326 -0.08588105  0.08802573  0.1017476 ]\n",
      " [ 0.12682524  0.64130563  0.68141538  1.28140152 -0.2666024   0.58476579\n",
      "  -1.2755065   0.19763047 -0.69266617  0.05350485]\n",
      " [ 0.78631306  0.34876707 -0.12141786 -1.05309522  0.41274527 -1.4360677\n",
      "  -0.6248036  -0.18029913  1.173823   -0.01998813]\n",
      " [-0.59159058  0.18904682  1.24058342 -0.20518452 -0.37875903  0.77038735\n",
      "   0.12067994 -1.51706517  1.31233466 -0.35130689]\n",
      " [-0.37181696 -0.65482563  0.49762568 -0.07201093  1.46821725 -0.53847587\n",
      "   0.24810202 -0.40731627 -1.76003945  0.15248844]\n",
      " [-0.97816843  0.9981873   0.86167103  1.19296026  0.28791907  0.81492198\n",
      "   0.2340035  -0.68419749 -1.5758878   1.6395185 ]\n",
      " [-1.86600673 -0.53029943 -1.43597567 -0.55110127  0.79476976  1.32880175\n",
      "   1.0182606  -0.4016479  -1.68002391 -0.33767429]]\n"
     ]
    }
   ],
   "source": [
    "\n",
    "W = tf.Variable(tf.truncated_normal([10,10]), name='W')\n",
    "with tf.Session() as sess:\n",
    "    sess.run( W.initializer )\n",
    "    print(W)\n",
    "    print( sess.run(W) )\n"
   ]
  },
  {
   "cell_type": "code",
   "execution_count": 28,
   "metadata": {
    "collapsed": false
   },
   "outputs": [
    {
     "name": "stdout",
     "output_type": "stream",
     "text": [
      "10\n",
      "100\n"
     ]
    }
   ],
   "source": [
    "\n",
    "W = tf.Variable( 10, name='W' )\n",
    "op = W.assign( 100 )\n",
    "with tf.Session() as sess:\n",
    "    sess.run(W.initializer)\n",
    "    print(W.eval()) # << 10\n",
    "    sess.run(op)\n",
    "    print(W.eval()) #<< 100\n"
   ]
  },
  {
   "cell_type": "code",
   "execution_count": 30,
   "metadata": {
    "collapsed": false
   },
   "outputs": [
    {
     "name": "stdout",
     "output_type": "stream",
     "text": [
      "4\n",
      "8\n",
      "16\n"
     ]
    }
   ],
   "source": [
    "\n",
    "a = tf.Variable( 2, name='a' )\n",
    "op_times_two = a.assign( 2*a )\n",
    "with tf.Session() as sess:\n",
    "    sess.run(a.initializer)\n",
    "    sess.run(op_times_two); print(a.eval())\n",
    "    sess.run(op_times_two); print(a.eval())\n",
    "    sess.run(op_times_two); print(a.eval())\n",
    "\n"
   ]
  },
  {
   "cell_type": "code",
   "execution_count": 3,
   "metadata": {
    "collapsed": false
   },
   "outputs": [
    {
     "name": "stdout",
     "output_type": "stream",
     "text": [
      "Tensor(\"a_1:0\", shape=(3,), dtype=float32)\n",
      "Tensor(\"b_1:0\", shape=(3,), dtype=float32)\n",
      "Tensor(\"add_1:0\", shape=(3,), dtype=float32)\n",
      "[ 2.  4.  6.]\n"
     ]
    }
   ],
   "source": [
    "# placeholder\n",
    "\n",
    "path_logs = './graphs'\n",
    "\n",
    "a = tf.placeholder( dtype=tf.float32, shape=(3), name='a' )\n",
    "print(a)\n",
    "\n",
    "b = tf.constant([1.0,2.0,3.0], dtype=tf.float32, name='b')\n",
    "print(b)\n",
    "\n",
    "z = a+b; # tf.add(a,b)\n",
    "print(z)\n",
    "\n",
    "\n",
    "with tf.Session() as sess:\n",
    "    \n",
    "    writer = tf.summary.FileWriter( path_logs, sess.graph )\n",
    "    feed_dict = {a:[1,2,3]};\n",
    "    print(sess.run(z, feed_dict=feed_dict))\n",
    "\n",
    "writer.close()\n"
   ]
  },
  {
   "cell_type": "code",
   "execution_count": 9,
   "metadata": {
    "collapsed": false
   },
   "outputs": [
    {
     "name": "stdout",
     "output_type": "stream",
     "text": [
      "2.5\n",
      "2.5\n"
     ]
    }
   ],
   "source": [
    "\n",
    "x = tf.constant( [1,2,3,4], dtype=tf.float32 )\n",
    "y = tf.reduce_mean(x)\n",
    "with tf.Session() as sess:\n",
    "    print( sess.run(y) )\n",
    "print( np.mean( np.array([1,2,3,4]) ) )\n"
   ]
  }
 ],
 "metadata": {
  "kernelspec": {
   "display_name": "Python [conda root]",
   "language": "python",
   "name": "conda-root-py"
  },
  "language_info": {
   "codemirror_mode": {
    "name": "ipython",
    "version": 3
   },
   "file_extension": ".py",
   "mimetype": "text/x-python",
   "name": "python",
   "nbconvert_exporter": "python",
   "pygments_lexer": "ipython3",
   "version": "3.5.2"
  }
 },
 "nbformat": 4,
 "nbformat_minor": 2
}
